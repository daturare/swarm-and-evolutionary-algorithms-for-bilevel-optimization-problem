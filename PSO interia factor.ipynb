{
 "cells": [
  {
   "cell_type": "markdown",
   "id": "715de943",
   "metadata": {},
   "source": [
    "# PSO algorithm interia factor analysis"
   ]
  },
  {
   "cell_type": "code",
   "execution_count": 4,
   "id": "82db3ae9",
   "metadata": {},
   "outputs": [],
   "source": [
    "#подключение библиотек\n",
    "import numpy as np\n",
    "import pandas as pd\n",
    "import matplotlib.pyplot as plt\n",
    "import seaborn as sns\n",
    "import random \n",
    "import math"
   ]
  },
  {
   "cell_type": "markdown",
   "id": "57aefeee",
   "metadata": {},
   "source": [
    "## Функции для анализа"
   ]
  },
  {
   "cell_type": "markdown",
   "id": "47957dd0",
   "metadata": {},
   "source": [
    "### Функция Растригина"
   ]
  },
  {
   "cell_type": "code",
   "execution_count": 5,
   "id": "7af6d20a",
   "metadata": {},
   "outputs": [],
   "source": [
    "def rastr(varAm, partAm, partPos):\n",
    "    partVal0 = np.empty(0)\n",
    "    \n",
    "    for i in range(partAm):\n",
    "        vector0 = np.empty(0) \n",
    "        \n",
    "        for j in range(varAm):\n",
    "            vector0 = np.append(vector0, pow(partPos[i,j],2) - 10 * math.cos(2 * math.pi * partPos[i,j]))  \n",
    "            \n",
    "        vector0 = sum(vector0) + 10 * varAm\n",
    "        partVal0 = np.append(partVal0, vector0)  \n",
    "        \n",
    "    partVal = partVal0   \n",
    "    \n",
    "    return partVal"
   ]
  },
  {
   "cell_type": "code",
   "execution_count": 6,
   "id": "ab9d37bc",
   "metadata": {},
   "outputs": [
    {
     "data": {
      "text/plain": [
       "array([ 0., 10.])"
      ]
     },
     "execution_count": 6,
     "metadata": {},
     "output_type": "execute_result"
    }
   ],
   "source": [
    "rastr(2, 2, np.array(((0,0),(1,3))))"
   ]
  },
  {
   "cell_type": "markdown",
   "id": "aea96c40",
   "metadata": {},
   "source": [
    "### Функция Экли"
   ]
  },
  {
   "cell_type": "code",
   "execution_count": 7,
   "id": "5126b1af",
   "metadata": {},
   "outputs": [],
   "source": [
    "def ekl(partAm, partPos):\n",
    "    partVal = np.empty(0)\n",
    "    \n",
    "    for i in range(partAm):\n",
    "        \n",
    "        partVal = np.append(partVal, (-math.exp(0.5 * (math.cos(2 * math.pi * partPos[i,0])+\n",
    "                    math.cos(2 * math.pi * partPos[i,1])))) - (20 * math.exp(-0.2 * math.sqrt(0.5 * \n",
    "                    (pow(partPos[i,0],2) + pow(partPos[i,1],2))))) + math.exp(1) + 20) \n",
    "    \n",
    "    return partVal"
   ]
  },
  {
   "cell_type": "code",
   "execution_count": 8,
   "id": "c759c85b",
   "metadata": {},
   "outputs": [
    {
     "data": {
      "text/plain": [
       "array([0.        , 7.21185362])"
      ]
     },
     "execution_count": 8,
     "metadata": {},
     "output_type": "execute_result"
    }
   ],
   "source": [
    "ekl(2, np.array(((0,0),(1,3))))"
   ]
  },
  {
   "cell_type": "markdown",
   "id": "984a2314",
   "metadata": {},
   "source": [
    "### Функция сферы"
   ]
  },
  {
   "cell_type": "code",
   "execution_count": 9,
   "id": "5b005410",
   "metadata": {},
   "outputs": [],
   "source": [
    "def sphere(varAm, partAm, partPos):\n",
    "    partVal0 = np.empty(0)\n",
    "    \n",
    "    for i in range(partAm):\n",
    "        vector0 = np.empty(0) \n",
    "        \n",
    "        for j in range(varAm):\n",
    "            vector0 = np.append(vector0, pow(partPos[i,j],2))  \n",
    "            \n",
    "        vector0 = sum(vector0)\n",
    "        partVal0 = np.append(partVal0, vector0)  \n",
    "        \n",
    "    partVal = partVal0   \n",
    "    \n",
    "    return partVal"
   ]
  },
  {
   "cell_type": "code",
   "execution_count": 10,
   "id": "3673fad5",
   "metadata": {},
   "outputs": [
    {
     "data": {
      "text/plain": [
       "array([ 0., 10.])"
      ]
     },
     "execution_count": 10,
     "metadata": {},
     "output_type": "execute_result"
    }
   ],
   "source": [
    "sphere(2, 2, np.array(((0,0),(1,3))))"
   ]
  },
  {
   "cell_type": "markdown",
   "id": "2633065b",
   "metadata": {},
   "source": [
    "### Функция Бута"
   ]
  },
  {
   "cell_type": "code",
   "execution_count": 11,
   "id": "f214daf8",
   "metadata": {},
   "outputs": [],
   "source": [
    "def but(partAm, partPos):\n",
    "    partVal = np.empty(0)\n",
    "    \n",
    "    for i in range(partAm):\n",
    "        \n",
    "        partVal = np.append(partVal, pow(partPos[i,0] + 2 * partPos[i,1] - 7,2) + \n",
    "                            pow (2 * partPos[i,0] + partPos[i,1] - 5, 2)\n",
    "                           ) \n",
    "    \n",
    "    return partVal"
   ]
  },
  {
   "cell_type": "code",
   "execution_count": 12,
   "id": "3b3a52b7",
   "metadata": {},
   "outputs": [
    {
     "data": {
      "text/plain": [
       "array([74.,  0.])"
      ]
     },
     "execution_count": 12,
     "metadata": {},
     "output_type": "execute_result"
    }
   ],
   "source": [
    "but(2, np.array(((0,0),(1,3))))"
   ]
  },
  {
   "cell_type": "markdown",
   "id": "e91da9a5",
   "metadata": {},
   "source": [
    "### Функция Била"
   ]
  },
  {
   "cell_type": "code",
   "execution_count": 13,
   "id": "cc6f1e0f",
   "metadata": {},
   "outputs": [],
   "source": [
    "def but(partAm, partPos):\n",
    "    partVal = np.empty(0)\n",
    "    \n",
    "    for i in range(partAm):\n",
    "        \n",
    "        partVal = np.append(partVal, pow(1.5 - partPos[i,0] + partPos[i,0] * partPos[i,1], 2) +\n",
    "                            pow(2.25 - partPos[i,0] + partPos[i,0] * pow(partPos[i,1], 2), 2) +\n",
    "                            pow(2.625 - partPos[i,0] + partPos[i,0] * pow(partPos[i,1], 3), 2)\n",
    "                           ) \n",
    "    \n",
    "    return partVal"
   ]
  },
  {
   "cell_type": "markdown",
   "id": "b7246a7e",
   "metadata": {},
   "source": [
    "## Алгоритм роя частиц с меняющимся коэффициентом инерции"
   ]
  },
  {
   "cell_type": "markdown",
   "id": "3bec6885",
   "metadata": {},
   "source": [
    "### Линейные коэффициенты инерции"
   ]
  },
  {
   "cell_type": "markdown",
   "id": "7b2f5a28",
   "metadata": {},
   "source": [
    "Первый линейный коэффициент (предложен Юхи Ши и Расселом Эберхартом)"
   ]
  },
  {
   "cell_type": "code",
   "execution_count": 15,
   "id": "21fbcb6b",
   "metadata": {},
   "outputs": [],
   "source": [
    "def wLin1(tmax, t, wmin, wmax):\n",
    "    w = (tmax - t)/tmax * (wmax - wmin) + wmin\n",
    "    return w"
   ]
  },
  {
   "cell_type": "markdown",
   "id": "2a191ba9",
   "metadata": {},
   "source": [
    "Второй линейный коэффициент (предложен Харрисоном К.)"
   ]
  },
  {
   "cell_type": "code",
   "execution_count": 16,
   "id": "4f402e07",
   "metadata": {},
   "outputs": [],
   "source": [
    "def wLin2(t, tmax):\n",
    "    w = 0.5 * t/tmax + 0.4\n",
    "    return w"
   ]
  },
  {
   "cell_type": "markdown",
   "id": "e19b5798",
   "metadata": {},
   "source": [
    "Третий линеный коэффициент (сначала увеличивается, затем уменьшается)"
   ]
  },
  {
   "cell_type": "code",
   "execution_count": 17,
   "id": "9b9fe91a",
   "metadata": {},
   "outputs": [],
   "source": [
    "def wLin3(t, tmax):\n",
    "    if t/tmax <= 0.5:\n",
    "        w = 1 * t/tmax + 0.4\n",
    "    else: \n",
    "        w = -1 * t/tmax + 1.4  \n",
    "    return w"
   ]
  },
  {
   "cell_type": "markdown",
   "id": "7b13a969",
   "metadata": {},
   "source": [
    " Четвертый линейный коэффициент (учитывает среднее расстояние между частицами)"
   ]
  },
  {
   "cell_type": "code",
   "execution_count": 18,
   "id": "787bc085",
   "metadata": {},
   "outputs": [],
   "source": [
    "def wLin4(dmin, dmax, d, wmin, wmax):\n",
    "    w = (wmax - wmin)/(dmax - dmin) * d + (dmax * wmin - dmin * wmax)/(dmax - dmin)\n",
    "    return w"
   ]
  },
  {
   "cell_type": "markdown",
   "id": "968630be",
   "metadata": {},
   "source": [
    "### Нелинейные коэффциенты инерции"
   ]
  },
  {
   "cell_type": "markdown",
   "id": "e4fd467e",
   "metadata": {},
   "source": [
    "Первый нелинейный коэффициент (предложен Д. Тианом и Дж. Ши)"
   ]
  },
  {
   "cell_type": "code",
   "execution_count": 19,
   "id": "8785dc0f",
   "metadata": {},
   "outputs": [],
   "source": [
    "def wNotLin1(wmin, wmax, t, tmax):\n",
    "    w = wmin + (wmax - wmin) * pow(math.exp(1), -t/(tmax/10))\n",
    "    return w"
   ]
  },
  {
   "cell_type": "markdown",
   "id": "a12be4a2",
   "metadata": {},
   "source": [
    "Второй нелинейный коэффициент (предложен Б. Джиао и З. Лиань)"
   ]
  },
  {
   "cell_type": "code",
   "execution_count": 20,
   "id": "a1df13eb",
   "metadata": {},
   "outputs": [],
   "source": [
    "def wNotLin2(wstart, u, t):\n",
    "    w = wstart * pow(u, t)\n",
    "    return w"
   ]
  },
  {
   "cell_type": "markdown",
   "id": "93d127cf",
   "metadata": {},
   "source": [
    "### Случайные коэффциенты инерции"
   ]
  },
  {
   "cell_type": "markdown",
   "id": "3006fcaf",
   "metadata": {},
   "source": [
    "Первый случайный коэффициент"
   ]
  },
  {
   "cell_type": "code",
   "execution_count": 21,
   "id": "2eb8d447",
   "metadata": {},
   "outputs": [],
   "source": [
    "def wRand1():\n",
    "    w = 0.5 + random.random()/2\n",
    "    return w"
   ]
  },
  {
   "cell_type": "code",
   "execution_count": 22,
   "id": "a52f3d6e",
   "metadata": {},
   "outputs": [
    {
     "data": {
      "text/plain": [
       "0.8750996863423752"
      ]
     },
     "execution_count": 22,
     "metadata": {},
     "output_type": "execute_result"
    }
   ],
   "source": [
    "random.random()"
   ]
  },
  {
   "cell_type": "markdown",
   "id": "32d9dda6",
   "metadata": {},
   "source": [
    "Второй случайный коэффициент"
   ]
  },
  {
   "cell_type": "code",
   "execution_count": 23,
   "id": "94aac451",
   "metadata": {},
   "outputs": [],
   "source": [
    "def wRand2(alf1, afl2, bestValueHistory, t):\n",
    "    k = (bestValueHistory[t] - bestValueHistory[t - 10])/ bestValueHistory[t - 10]\n",
    "    \n",
    "    if k >= 0.05:\n",
    "        w = alf1 + random.random()/2\n",
    "    else:\n",
    "        w = alf2 + random.random()/2\n",
    "    return w"
   ]
  },
  {
   "cell_type": "markdown",
   "id": "545c23a8",
   "metadata": {},
   "source": [
    "### PSO - algorithm"
   ]
  },
  {
   "cell_type": "markdown",
   "id": "603c181b",
   "metadata": {},
   "source": [
    "Исходные данные"
   ]
  },
  {
   "cell_type": "code",
   "execution_count": 82,
   "id": "3fec930c",
   "metadata": {},
   "outputs": [],
   "source": [
    "iterAmount = 500\n",
    "varAmount = 2\n",
    "particlesAmount = 100\n",
    "pMin = -50\n",
    "pMax = 50\n",
    "w = 0.2\n",
    "c1 = 0.2\n",
    "c2 = 0.3\n",
    "\n",
    "particlesPosition = np.random.uniform(pMin, pMax, size=(particlesAmount,varAmount))\n",
    "particlesVelocity = np.zeros((particlesAmount,varAmount))\n",
    "particlesValue = rastr(varAmount,particlesAmount,particlesPosition)\n",
    "bestValue = min(particlesValue)\n",
    "bestPosition = particlesPosition[np.where(particlesValue == bestValue)[0]][0]\n",
    "bestParticlesValue = particlesValue \n",
    "bestParticlesPosition = particlesPosition\n",
    "\n",
    "bestValueVector = np.empty(0)\n",
    "bestPositionVector = np.empty(0)\n",
    "bestParticlesPositionVector = np.empty(0)\n",
    "bestParticlesValueVector = np.empty(0)"
   ]
  },
  {
   "cell_type": "code",
   "execution_count": 83,
   "id": "a2be2c48",
   "metadata": {},
   "outputs": [],
   "source": [
    "for k in range(iterAmount):\n",
    "    \n",
    "    #пересчет скорости и позиции частиц\n",
    "    for i in range(particlesAmount):\n",
    "        for j in range(varAmount):\n",
    "            particlesVelocity[i,j] = (wLin1(iterAmount,k, 0.2, 1) * particlesVelocity[i,j] + \n",
    "                                      c1 * random.random() * (bestParticlesPosition[i,j] - particlesPosition[i,j]) + \n",
    "                                      c2 * random.random() * (bestPosition[j] - particlesPosition[i,j]))\n",
    "\n",
    "        \n",
    "            dist = particlesPosition[i,j] + particlesVelocity[i,j]\n",
    "            \n",
    "            if dist < pMin:\n",
    "                particlesPosition[i,j] = pMin\n",
    "            elif dist > pMax:\n",
    "                particlesPosition[i,j] = pMax\n",
    "            else:\n",
    "                particlesPosition[i,j] = dist\n",
    "            \n",
    "    \n",
    "    #пересчет значений функции\n",
    "    particlesValue = rastr(varAmount, particlesAmount, particlesPosition)\n",
    "    \n",
    "    #обновление значений\n",
    "    for i in range(particlesAmount):\n",
    "        t = particlesValue[i]\n",
    "    \n",
    "        if bestParticlesValue[i] > t:\n",
    "            bestParticlesValue[i] = t\n",
    "            bestParticlesPosition[i] = particlesPosition[i]\n",
    "        \n",
    "        if bestValue > t:\n",
    "            bestValue = t\n",
    "            bestPosition = particlesPosition[i]\n",
    "            \n",
    "    bestValueVector = np.append(bestValueVector, bestValue)\n",
    "    bestPositionVector = np.append(bestPositionVector, bestPosition)\n",
    "    bestParticlesValueVector = np.append(bestParticlesValueVector, bestParticlesValue)\n",
    "    bestParticlesPositionVector = np.append(bestParticlesPositionVector, bestParticlesPosition)"
   ]
  },
  {
   "cell_type": "code",
   "execution_count": 84,
   "id": "31946591",
   "metadata": {},
   "outputs": [
    {
     "data": {
      "text/plain": [
       "([<matplotlib.axis.XTick at 0x7f9b26e06370>,\n",
       "  <matplotlib.axis.XTick at 0x7f9b26e06340>,\n",
       "  <matplotlib.axis.XTick at 0x7f9b26f0d640>,\n",
       "  <matplotlib.axis.XTick at 0x7f9b27236f10>,\n",
       "  <matplotlib.axis.XTick at 0x7f9b2713a6a0>],\n",
       " [Text(0, 0, ''),\n",
       "  Text(0, 0, ''),\n",
       "  Text(0, 0, ''),\n",
       "  Text(0, 0, ''),\n",
       "  Text(0, 0, '')])"
      ]
     },
     "execution_count": 84,
     "metadata": {},
     "output_type": "execute_result"
    },
    {
     "data": {
      "image/png": "[encoded data removed]",
      "text/plain": [
       "<Figure size 576x396 with 1 Axes>"
      ]
     },
     "metadata": {},
     "output_type": "display_data"
    }
   ],
   "source": [
    "plt.style.use(\"seaborn\")\n",
    "plt.xlabel('Номер итерации', fontsize = 12)\n",
    "plt.ylabel('Лучшее значение функции', fontsize = 12)\n",
    "plt.plot(bestValueVector, linewidth=2)\n",
    "plt.xticks(np.arange(0, 500, step=100))"
   ]
  },
  {
   "cell_type": "code",
   "execution_count": 85,
   "id": "3bf150e0",
   "metadata": {},
   "outputs": [
    {
     "data": {
      "text/plain": [
       "[<matplotlib.lines.Line2D at 0x7f9b2707c760>]"
      ]
     },
     "execution_count": 85,
     "metadata": {},
     "output_type": "execute_result"
    },
    {
     "data": {
      "image/png": "[encoded data removed]",
      "text/plain": [
       "<Figure size 576x396 with 1 Axes>"
      ]
     },
     "metadata": {},
     "output_type": "display_data"
    }
   ],
   "source": [
    "plt.plot(bestParticlesValueVector.reshape(500, particlesAmount).transpose()[1])\n",
    "plt.plot(bestParticlesValueVector.reshape(500, particlesAmount).transpose()[2])\n",
    "plt.plot(bestParticlesValueVector.reshape(500, particlesAmount).transpose()[3])"
   ]
  },
  {
   "cell_type": "code",
   "execution_count": null,
   "id": "ed54ae5c",
   "metadata": {},
   "outputs": [],
   "source": []
  }
 ],
 "metadata": {
  "kernelspec": {
   "display_name": "Python 3 (ipykernel)",
   "language": "python",
   "name": "python3"
  },
  "language_info": {
   "codemirror_mode": {
    "name": "ipython",
    "version": 3
   },
   "file_extension": ".py",
   "mimetype": "text/x-python",
   "name": "python",
   "nbconvert_exporter": "python",
   "pygments_lexer": "ipython3",
   "version": "3.9.7"
  }
 },
 "nbformat": 4,
 "nbformat_minor": 5
}
