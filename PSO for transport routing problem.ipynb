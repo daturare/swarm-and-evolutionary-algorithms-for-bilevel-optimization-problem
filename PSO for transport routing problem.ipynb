{
 "cells": [
  {
   "cell_type": "markdown",
   "id": "413f0abc",
   "metadata": {},
   "source": [
    "# PSO for transport routing problem"
   ]
  },
  {
   "cell_type": "code",
   "execution_count": 130,
   "id": "9a839fac",
   "metadata": {},
   "outputs": [],
   "source": [
    "#подключение библиотек\n",
    "import numpy as np\n",
    "import pandas as pd\n",
    "import matplotlib.pyplot as plt\n",
    "import seaborn as sns\n",
    "import random \n",
    "import math\n",
    "import networkx as nx"
   ]
  },
  {
   "cell_type": "markdown",
   "id": "21cb286d",
   "metadata": {},
   "source": [
    "## Линейный коэффициент инерции"
   ]
  },
  {
   "cell_type": "code",
   "execution_count": 131,
   "id": "04dd46c3",
   "metadata": {},
   "outputs": [],
   "source": [
    "def wLin1(tmax, t, wmin, wmax):\n",
    "    w = (tmax - t)/tmax * (wmax - wmin) + wmin\n",
    "    return w"
   ]
  },
  {
   "cell_type": "markdown",
   "id": "e58b7d05",
   "metadata": {},
   "source": [
    "## Исходные данные"
   ]
  },
  {
   "cell_type": "code",
   "execution_count": 132,
   "id": "bf9e41d2",
   "metadata": {
    "scrolled": false
   },
   "outputs": [],
   "source": [
    "iterAmount = 3000\n",
    "nodesAmount = 10\n",
    "particlesAmount = 50\n",
    "pMin = 0\n",
    "pMax = 1\n",
    "c1 = 0.1\n",
    "c2 = 0.1\n",
    "\n",
    "#генерируем граф со случайными расстояниями\n",
    "testGraph = np.random.uniform(1, 100, size=(nodesAmount,nodesAmount))\n",
    "for i in range(nodesAmount):\n",
    "    for j in range(nodesAmount):\n",
    "         if i == j:\n",
    "            testGraph[i, j] = 0\n",
    "                \n",
    "#представляем частицы в виде матрицы с элементами на интервале [0;1]\n",
    "particlesPosition = np.random.uniform(pMin, pMax, size=(particlesAmount,nodesAmount,nodesAmount))\n",
    "for k in range(particlesAmount):\n",
    "    for i in range(nodesAmount):\n",
    "        for j in range(nodesAmount):\n",
    "            if i == j:\n",
    "                particlesPosition[k, i, j] = -0.1\n",
    "                \n",
    "#перевод позиции частиц в матрицу смежности\n",
    "particlesAdjencyMatrix = np.zeros((particlesAmount,nodesAmount,nodesAmount))\n",
    "\n",
    "for k in range(particlesAmount):\n",
    "    nodesToVisit = np.array(range(1,nodesAmount))\n",
    "    shortestPath = np.array(range(1))\n",
    "    for z in range(len(nodesToVisit)):\n",
    "        newNode = -0.1\n",
    "        for i in range(len(nodesToVisit)):\n",
    "            if particlesPosition[k, shortestPath[-1], nodesToVisit[i]] > newNode:\n",
    "                newNode = particlesPosition[k, shortestPath[-1], nodesToVisit[i]]\n",
    "                newNodePosition = nodesToVisit[i]\n",
    "                index = i\n",
    "                \n",
    "    \n",
    "        shortestPath = np.append(shortestPath, newNodePosition)\n",
    "        particlesAdjencyMatrix[k, shortestPath[-2], shortestPath[-1]] = 1\n",
    "        nodesToVisit = np.delete(nodesToVisit,index)\n",
    "        \n",
    "    shortestPath = np.append(shortestPath, 0)\n",
    "    particlesAdjencyMatrix[k, shortestPath[-2], shortestPath[-1]] = 1\n",
    "\n",
    "#скорость частиц\n",
    "particlesVelocity = np.zeros((particlesAmount,nodesAmount,nodesAmount))\n",
    "\n",
    "#нахождение значения целевой функции для каждой частицы\n",
    "particlesValue = np.empty(0)\n",
    "for k in range(particlesAmount):\n",
    "    particlesValue0 = sum(sum(np.multiply(testGraph,particlesAdjencyMatrix[k])))\n",
    "    particlesValue = np.append(particlesValue, particlesValue0)\n",
    "\n",
    "\n",
    "bestValue = min(particlesValue)\n",
    "bestPosition = particlesPosition[np.where(particlesValue == bestValue)[0]][0]\n",
    "bestParticlesValue = particlesValue \n",
    "bestParticlesPosition = particlesPosition\n",
    "\n",
    "bestValueVector = np.empty(0)\n",
    "bestPositionVector = np.empty(0)\n",
    "bestParticlesValueVector = np.empty(0)\n",
    "bestParticlesPositionVector = np.empty(0)\n",
    "particlesPositionVector = np.empty(0)"
   ]
  },
  {
   "cell_type": "markdown",
   "id": "1e0d163e",
   "metadata": {},
   "source": [
    "## Матрица расстояний графа"
   ]
  },
  {
   "cell_type": "code",
   "execution_count": 133,
   "id": "760eaa56",
   "metadata": {},
   "outputs": [
    {
     "data": {
      "text/html": [
       "<div>\n",
       "<style scoped>\n",
       "    .dataframe tbody tr th:only-of-type {\n",
       "        vertical-align: middle;\n",
       "    }\n",
       "\n",
       "    .dataframe tbody tr th {\n",
       "        vertical-align: top;\n",
       "    }\n",
       "\n",
       "    .dataframe thead th {\n",
       "        text-align: right;\n",
       "    }\n",
       "</style>\n",
       "<table border=\"1\" class=\"dataframe\">\n",
       "  <thead>\n",
       "    <tr style=\"text-align: right;\">\n",
       "      <th></th>\n",
       "      <th>0</th>\n",
       "      <th>1</th>\n",
       "      <th>2</th>\n",
       "      <th>3</th>\n",
       "      <th>4</th>\n",
       "      <th>5</th>\n",
       "      <th>6</th>\n",
       "      <th>7</th>\n",
       "      <th>8</th>\n",
       "      <th>9</th>\n",
       "    </tr>\n",
       "  </thead>\n",
       "  <tbody>\n",
       "    <tr>\n",
       "      <th>0</th>\n",
       "      <td>0.000000</td>\n",
       "      <td>13.291544</td>\n",
       "      <td>95.469657</td>\n",
       "      <td>48.224331</td>\n",
       "      <td>16.063337</td>\n",
       "      <td>98.977524</td>\n",
       "      <td>97.301048</td>\n",
       "      <td>27.966938</td>\n",
       "      <td>9.838498</td>\n",
       "      <td>24.352262</td>\n",
       "    </tr>\n",
       "    <tr>\n",
       "      <th>1</th>\n",
       "      <td>20.261022</td>\n",
       "      <td>0.000000</td>\n",
       "      <td>10.990254</td>\n",
       "      <td>79.994915</td>\n",
       "      <td>84.931061</td>\n",
       "      <td>8.398381</td>\n",
       "      <td>29.325234</td>\n",
       "      <td>71.167331</td>\n",
       "      <td>14.650896</td>\n",
       "      <td>37.504368</td>\n",
       "    </tr>\n",
       "    <tr>\n",
       "      <th>2</th>\n",
       "      <td>67.902847</td>\n",
       "      <td>89.584112</td>\n",
       "      <td>0.000000</td>\n",
       "      <td>6.344866</td>\n",
       "      <td>33.216961</td>\n",
       "      <td>90.145269</td>\n",
       "      <td>89.318940</td>\n",
       "      <td>94.631900</td>\n",
       "      <td>49.167783</td>\n",
       "      <td>53.502056</td>\n",
       "    </tr>\n",
       "    <tr>\n",
       "      <th>3</th>\n",
       "      <td>39.654378</td>\n",
       "      <td>69.236824</td>\n",
       "      <td>6.354913</td>\n",
       "      <td>0.000000</td>\n",
       "      <td>24.331045</td>\n",
       "      <td>30.667315</td>\n",
       "      <td>73.746698</td>\n",
       "      <td>24.907703</td>\n",
       "      <td>56.792499</td>\n",
       "      <td>70.460582</td>\n",
       "    </tr>\n",
       "    <tr>\n",
       "      <th>4</th>\n",
       "      <td>53.215684</td>\n",
       "      <td>87.818784</td>\n",
       "      <td>36.862425</td>\n",
       "      <td>44.348917</td>\n",
       "      <td>0.000000</td>\n",
       "      <td>8.352482</td>\n",
       "      <td>89.416435</td>\n",
       "      <td>8.615497</td>\n",
       "      <td>88.106407</td>\n",
       "      <td>29.405248</td>\n",
       "    </tr>\n",
       "    <tr>\n",
       "      <th>5</th>\n",
       "      <td>84.603794</td>\n",
       "      <td>75.173129</td>\n",
       "      <td>39.001155</td>\n",
       "      <td>19.419304</td>\n",
       "      <td>34.251326</td>\n",
       "      <td>0.000000</td>\n",
       "      <td>39.422851</td>\n",
       "      <td>2.210188</td>\n",
       "      <td>98.773712</td>\n",
       "      <td>56.456043</td>\n",
       "    </tr>\n",
       "    <tr>\n",
       "      <th>6</th>\n",
       "      <td>28.375284</td>\n",
       "      <td>84.398027</td>\n",
       "      <td>83.637624</td>\n",
       "      <td>83.138252</td>\n",
       "      <td>10.023665</td>\n",
       "      <td>33.705781</td>\n",
       "      <td>0.000000</td>\n",
       "      <td>86.489523</td>\n",
       "      <td>11.764938</td>\n",
       "      <td>73.539863</td>\n",
       "    </tr>\n",
       "    <tr>\n",
       "      <th>7</th>\n",
       "      <td>67.796458</td>\n",
       "      <td>69.199165</td>\n",
       "      <td>42.844429</td>\n",
       "      <td>74.360194</td>\n",
       "      <td>55.603533</td>\n",
       "      <td>39.544330</td>\n",
       "      <td>39.635769</td>\n",
       "      <td>0.000000</td>\n",
       "      <td>81.968220</td>\n",
       "      <td>65.305951</td>\n",
       "    </tr>\n",
       "    <tr>\n",
       "      <th>8</th>\n",
       "      <td>93.734651</td>\n",
       "      <td>75.836283</td>\n",
       "      <td>94.079357</td>\n",
       "      <td>43.571361</td>\n",
       "      <td>59.912342</td>\n",
       "      <td>91.604857</td>\n",
       "      <td>34.837586</td>\n",
       "      <td>56.412560</td>\n",
       "      <td>0.000000</td>\n",
       "      <td>22.561295</td>\n",
       "    </tr>\n",
       "    <tr>\n",
       "      <th>9</th>\n",
       "      <td>80.441649</td>\n",
       "      <td>76.676313</td>\n",
       "      <td>52.613978</td>\n",
       "      <td>48.268201</td>\n",
       "      <td>49.055135</td>\n",
       "      <td>12.704548</td>\n",
       "      <td>51.807719</td>\n",
       "      <td>36.260149</td>\n",
       "      <td>24.241727</td>\n",
       "      <td>0.000000</td>\n",
       "    </tr>\n",
       "  </tbody>\n",
       "</table>\n",
       "</div>"
      ],
      "text/plain": [
       "           0          1          2          3          4          5  \\\n",
       "0   0.000000  13.291544  95.469657  48.224331  16.063337  98.977524   \n",
       "1  20.261022   0.000000  10.990254  79.994915  84.931061   8.398381   \n",
       "2  67.902847  89.584112   0.000000   6.344866  33.216961  90.145269   \n",
       "3  39.654378  69.236824   6.354913   0.000000  24.331045  30.667315   \n",
       "4  53.215684  87.818784  36.862425  44.348917   0.000000   8.352482   \n",
       "5  84.603794  75.173129  39.001155  19.419304  34.251326   0.000000   \n",
       "6  28.375284  84.398027  83.637624  83.138252  10.023665  33.705781   \n",
       "7  67.796458  69.199165  42.844429  74.360194  55.603533  39.544330   \n",
       "8  93.734651  75.836283  94.079357  43.571361  59.912342  91.604857   \n",
       "9  80.441649  76.676313  52.613978  48.268201  49.055135  12.704548   \n",
       "\n",
       "           6          7          8          9  \n",
       "0  97.301048  27.966938   9.838498  24.352262  \n",
       "1  29.325234  71.167331  14.650896  37.504368  \n",
       "2  89.318940  94.631900  49.167783  53.502056  \n",
       "3  73.746698  24.907703  56.792499  70.460582  \n",
       "4  89.416435   8.615497  88.106407  29.405248  \n",
       "5  39.422851   2.210188  98.773712  56.456043  \n",
       "6   0.000000  86.489523  11.764938  73.539863  \n",
       "7  39.635769   0.000000  81.968220  65.305951  \n",
       "8  34.837586  56.412560   0.000000  22.561295  \n",
       "9  51.807719  36.260149  24.241727   0.000000  "
      ]
     },
     "execution_count": 133,
     "metadata": {},
     "output_type": "execute_result"
    }
   ],
   "source": [
    "pd.DataFrame(testGraph)"
   ]
  },
  {
   "cell_type": "markdown",
   "id": "8ccc9c46",
   "metadata": {},
   "source": [
    "## PSO for disctere problem method 1"
   ]
  },
  {
   "cell_type": "code",
   "execution_count": 134,
   "id": "17c5d7ef",
   "metadata": {},
   "outputs": [],
   "source": [
    "for z in range(iterAmount):\n",
    "    \n",
    "    #случайное изменение положения частиц                    \n",
    "    if z % 50 == 0:\n",
    "        for k in range(particlesAmount): \n",
    "            r1 = random.random()\n",
    "            if r1 > 0.5:\n",
    "                for i in range(nodesAmount):\n",
    "                    for j in range(nodesAmount):\n",
    "                        if i!=j:\n",
    "                            particlesPosition[k,i,j] = particlesPosition[k,i,j] + random.uniform(-0.3, 0.3)\n",
    "                            \n",
    "    #пересчет скорости и позиции частиц\n",
    "    for k in range(particlesAmount):\n",
    "        for i in range(nodesAmount):\n",
    "            for j in range(nodesAmount):\n",
    "                prv = wLin1(iterAmount, z, 1, 0.3) * particlesVelocity[k,i,j]\n",
    "                cog = c1 * random.random() * (bestParticlesPosition[k,i,j] - particlesPosition[k,i,j])\n",
    "                soc = c2 * random.random() * (bestPosition[i,j] - particlesPosition[k,i,j])\n",
    "                              \n",
    "                particlesVelocity[k,i,j] = prv + cog + soc\n",
    "                \n",
    "                dist = particlesPosition[k,i,j] + particlesVelocity[k,i,j]\n",
    "            \n",
    "                if dist < pMin:\n",
    "                    particlesPosition[k,i,j] = pMin\n",
    "                elif dist > pMax:\n",
    "                    particlesPosition[k,i,j] = pMax\n",
    "                else:\n",
    "                    particlesPosition[k,i,j] = dist\n",
    "                    \n",
    "                \n",
    "    #пересчет матрицы смежности для каждой частицы  \n",
    "\n",
    "    particlesAdjencyMatrix = np.zeros((particlesAmount,nodesAmount,nodesAmount))\n",
    "\n",
    "    for k in range(particlesAmount):\n",
    "        nodesToVisit = np.array(range(1,nodesAmount))\n",
    "        shortestPath = np.array(range(1))\n",
    "        for z in range(len(nodesToVisit)):\n",
    "            newNode = -0.1\n",
    "            for i in range(len(nodesToVisit)):\n",
    "                if particlesPosition[k, shortestPath[-1], nodesToVisit[i]] > newNode:\n",
    "                    newNode = particlesPosition[k, shortestPath[-1], nodesToVisit[i]]\n",
    "                    newNodePosition = nodesToVisit[i]\n",
    "                    index = i          \n",
    "    \n",
    "            shortestPath = np.append(shortestPath, newNodePosition)\n",
    "            particlesAdjencyMatrix[k, shortestPath[-2], shortestPath[-1]] = 1\n",
    "            nodesToVisit = np.delete(nodesToVisit,index)\n",
    "        \n",
    "        shortestPath = np.append(shortestPath, 0)\n",
    "        particlesAdjencyMatrix[k, shortestPath[-2], shortestPath[-1]] = 1\n",
    "    \n",
    "                \n",
    "    #пересчет значений функции\n",
    "    particlesValue = np.empty(0)\n",
    "    for k in range(particlesAmount):\n",
    "        particlesValue0 = sum(sum(np.multiply(testGraph,particlesAdjencyMatrix[k])))\n",
    "        particlesValue = np.append(particlesValue, particlesValue0)\n",
    "\n",
    "    #обновление значений\n",
    "    for i in range(particlesAmount):\n",
    "        t = particlesValue[i]\n",
    "        \n",
    "        if bestParticlesValue[i] > t:\n",
    "            bestParticlesValue[i] = t\n",
    "            bestParticlesPosition[i] = particlesPosition[i]\n",
    "        \n",
    "        if bestValue > t:\n",
    "            bestValue = t\n",
    "            bestPosition = particlesPosition[i]\n",
    "            \n",
    "    bestValueVector = np.append(bestValueVector, bestValue)\n",
    "    bestPositionVector = np.append(bestPositionVector, bestPosition)\n",
    "    bestParticlesValueVector = np.append(bestParticlesValueVector, bestParticlesValue)\n",
    "    bestParticlesPositionVector = np.append(bestParticlesPositionVector, bestParticlesPosition)\n",
    "    particlesPositionVector = np.append(particlesPositionVector, particlesPosition)\n",
    "    \n",
    "    "
   ]
  },
  {
   "cell_type": "code",
   "execution_count": 135,
   "id": "f619a634",
   "metadata": {
    "scrolled": false
   },
   "outputs": [
    {
     "data": {
      "text/plain": [
       "array([367.73679138, 310.48420963, 310.48420963, ..., 235.9675449 ,\n",
       "       235.9675449 , 235.9675449 ])"
      ]
     },
     "execution_count": 135,
     "metadata": {},
     "output_type": "execute_result"
    }
   ],
   "source": [
    "bestValueVector"
   ]
  },
  {
   "cell_type": "code",
   "execution_count": 136,
   "id": "3b6683aa",
   "metadata": {},
   "outputs": [
    {
     "data": {
      "text/plain": [
       "array([0, 7, 1, 8, 4, 9, 2, 3, 6, 5, 0])"
      ]
     },
     "execution_count": 136,
     "metadata": {},
     "output_type": "execute_result"
    }
   ],
   "source": [
    "shortestPath"
   ]
  },
  {
   "cell_type": "code",
   "execution_count": 137,
   "id": "7d0d7159",
   "metadata": {},
   "outputs": [
    {
     "data": {
      "text/plain": [
       "array([[0.        , 0.95920704, 0.33778842, 0.00177806, 0.41947259,\n",
       "        0.        , 0.41604376, 0.8625431 , 0.24803767, 1.        ],\n",
       "       [1.        , 0.        , 0.91698003, 0.96165717, 0.81391362,\n",
       "        0.        , 0.83709051, 0.98924896, 0.917573  , 0.65389472],\n",
       "       [0.99875399, 0.        , 0.        , 1.        , 0.2990597 ,\n",
       "        0.96063033, 1.        , 0.22280786, 0.46597863, 0.07381524],\n",
       "       [0.45031205, 0.84067301, 0.        , 0.        , 0.56309353,\n",
       "        0.35394337, 0.71362043, 0.00259784, 0.        , 1.        ],\n",
       "       [0.7181755 , 0.68540209, 0.66144649, 0.        , 0.        ,\n",
       "        0.47137782, 0.12639967, 0.57997553, 0.24102798, 0.65005328],\n",
       "       [1.        , 0.        , 0.37521618, 0.83175627, 0.93231577,\n",
       "        0.        , 1.        , 0.65190199, 0.54882463, 0.23253025],\n",
       "       [0.2153843 , 0.3643373 , 0.        , 0.21999505, 0.39322456,\n",
       "        0.73504021, 0.        , 0.59548284, 0.91806056, 0.21399141],\n",
       "       [0.        , 0.98459351, 0.3981595 , 0.31608786, 0.54067651,\n",
       "        0.72912841, 0.        , 0.        , 0.12426006, 0.32622177],\n",
       "       [0.53926163, 0.12313939, 0.04582986, 0.01292966, 0.99524891,\n",
       "        0.02079126, 0.71019144, 0.4993889 , 0.        , 0.        ],\n",
       "       [0.        , 0.64504519, 0.65129592, 0.50424052, 0.52124345,\n",
       "        0.05443235, 0.47081501, 0.18411997, 0.64485704, 0.        ]])"
      ]
     },
     "execution_count": 137,
     "metadata": {},
     "output_type": "execute_result"
    }
   ],
   "source": [
    "particlesPosition[1]"
   ]
  },
  {
   "cell_type": "code",
   "execution_count": 138,
   "id": "b2a85b32",
   "metadata": {},
   "outputs": [
    {
     "data": {
      "text/plain": [
       "([<matplotlib.axis.XTick at 0x7f9e0ab39a00>,\n",
       "  <matplotlib.axis.XTick at 0x7f9e0ab399d0>,\n",
       "  <matplotlib.axis.XTick at 0x7f9e0ab57f70>,\n",
       "  <matplotlib.axis.XTick at 0x7f9e0ab345b0>,\n",
       "  <matplotlib.axis.XTick at 0x7f9e0ab34d00>,\n",
       "  <matplotlib.axis.XTick at 0x7f9e0ab48490>],\n",
       " [Text(0, 0, ''),\n",
       "  Text(0, 0, ''),\n",
       "  Text(0, 0, ''),\n",
       "  Text(0, 0, ''),\n",
       "  Text(0, 0, ''),\n",
       "  Text(0, 0, '')])"
      ]
     },
     "execution_count": 138,
     "metadata": {},
     "output_type": "execute_result"
    },
    {
     "data": {
      "image/png": "[encoded data removed]",
      "text/plain": [
       "<Figure size 576x396 with 1 Axes>"
      ]
     },
     "metadata": {},
     "output_type": "display_data"
    }
   ],
   "source": [
    "plt.style.use(\"seaborn\")\n",
    "plt.xlabel('Номер итерации', fontsize = 12)\n",
    "plt.ylabel('Лучшее значение функции', fontsize = 12)\n",
    "plt.plot(bestValueVector, linewidth=2)\n",
    "plt.xticks(np.arange(0, iterAmount, step=500))"
   ]
  },
  {
   "cell_type": "code",
   "execution_count": null,
   "id": "e35611d7",
   "metadata": {},
   "outputs": [],
   "source": []
  }
 ],
 "metadata": {
  "kernelspec": {
   "display_name": "Python 3 (ipykernel)",
   "language": "python",
   "name": "python3"
  },
  "language_info": {
   "codemirror_mode": {
    "name": "ipython",
    "version": 3
   },
   "file_extension": ".py",
   "mimetype": "text/x-python",
   "name": "python",
   "nbconvert_exporter": "python",
   "pygments_lexer": "ipython3",
   "version": "3.9.7"
  }
 },
 "nbformat": 4,
 "nbformat_minor": 5
}
